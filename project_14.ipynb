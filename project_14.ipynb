{
 "cells": [
  {
   "cell_type": "code",
   "execution_count": 5,
   "id": "fb6a041e",
   "metadata": {},
   "outputs": [
    {
     "name": "stdout",
     "output_type": "stream",
     "text": [
      "Total nodes:               6426\n",
      "Total edges:               167219\n",
      "Avg degree centrality:     0.008100\n",
      "Standard dev centrality:   0.017689\n",
      "Min centrality:            0.000156\n",
      "Max centrality:            0.296965\n",
      "\n",
      "Node with max centrality:  CAPTAIN AMERICA (0.296965)\n",
      "Node with min centrality:  AZRAEL (0.000156)\n",
      "Top 5 nodes closest to avg centrality:\n",
      "  JONES, TAMMY ANNE (0.008093)\n",
      "  JONES, LORRAINE LORR (0.008093)\n",
      "  JONES, DANIEL DANNY (0.008093)\n",
      "  NEVILLE, KATE (0.008093)\n",
      "  PEARSON, MARCY (0.008093)\n"
     ]
    }
   ],
   "source": [
    "import pandas as pd\n",
    "import networkx as nx\n",
    "import numpy as np\n",
    "\n",
    "edges = pd.read_csv('hero-network.csv')  \n",
    "\n",
    "G = nx.from_pandas_edgelist(\n",
    "    edges,\n",
    "    source='hero1',\n",
    "    target='hero2',\n",
    "    create_using=nx.Graph()\n",
    ")\n",
    "\n",
    "num_nodes = G.number_of_nodes()\n",
    "num_edges = G.number_of_edges()\n",
    "\n",
    "deg_cent = nx.degree_centrality(G)\n",
    "cent_values = np.array(list(deg_cent.values()))\n",
    "\n",
    "avg_cent = cent_values.mean()\n",
    "std_cent = cent_values.std(ddof=0)\n",
    "min_cent = cent_values.min()\n",
    "max_cent = cent_values.max()\n",
    "\n",
    "node_max = max(deg_cent, key=deg_cent.get)\n",
    "node_min = min(deg_cent, key=deg_cent.get)\n",
    "nodes_near_avg = sorted(\n",
    "    deg_cent,\n",
    "    key=lambda n: abs(deg_cent[n] - avg_cent)\n",
    ")[:5]\n",
    "\n",
    "print(f\"Total nodes:               {num_nodes}\")\n",
    "print(f\"Total edges:               {num_edges}\")\n",
    "print(f\"Avg degree centrality:     {avg_cent:.6f}\")\n",
    "print(f\"Standard dev centrality:   {std_cent:.6f}\")\n",
    "print(f\"Min centrality:            {min_cent:.6f}\")\n",
    "print(f\"Max centrality:            {max_cent:.6f}\")\n",
    "print()\n",
    "print(f\"Node with max centrality:  {node_max} ({deg_cent[node_max]:.6f})\")\n",
    "print(f\"Node with min centrality:  {node_min} ({deg_cent[node_min]:.6f})\")\n",
    "print(\"Top 5 nodes closest to avg centrality:\")\n",
    "for n in nodes_near_avg:\n",
    "    print(f\"  {n} ({deg_cent[n]:.6f})\")\n"
   ]
  }
 ],
 "metadata": {
  "kernelspec": {
   "display_name": "Python 3",
   "language": "python",
   "name": "python3"
  },
  "language_info": {
   "codemirror_mode": {
    "name": "ipython",
    "version": 3
   },
   "file_extension": ".py",
   "mimetype": "text/x-python",
   "name": "python",
   "nbconvert_exporter": "python",
   "pygments_lexer": "ipython3",
   "version": "3.10.6"
  }
 },
 "nbformat": 4,
 "nbformat_minor": 5
}
